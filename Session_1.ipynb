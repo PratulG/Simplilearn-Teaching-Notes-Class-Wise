{
 "cells": [
  {
   "cell_type": "code",
   "execution_count": 1,
   "id": "3c507478",
   "metadata": {},
   "outputs": [
    {
     "name": "stdout",
     "output_type": "stream",
     "text": [
      "Hello World\n"
     ]
    }
   ],
   "source": [
    "print('Hello World')"
   ]
  },
  {
   "cell_type": "code",
   "execution_count": 2,
   "id": "6f3564a5",
   "metadata": {},
   "outputs": [
    {
     "name": "stdout",
     "output_type": "stream",
     "text": [
      "my name is Pratul\n"
     ]
    }
   ],
   "source": [
    "print('my name is Pratul')"
   ]
  },
  {
   "cell_type": "markdown",
   "id": "1eb8a692",
   "metadata": {},
   "source": [
    "# Level 1 Heading\n",
    "## Level 2 Heading\n",
    "### Level 3 Heading\n",
    "#### Level 4 Heading"
   ]
  },
  {
   "cell_type": "code",
   "execution_count": 3,
   "id": "ebbbb3b8",
   "metadata": {},
   "outputs": [
    {
     "name": "stdout",
     "output_type": "stream",
     "text": [
      "happy learning\n"
     ]
    }
   ],
   "source": [
    "print('happy learning')"
   ]
  },
  {
   "cell_type": "code",
   "execution_count": 4,
   "id": "d3dec48a",
   "metadata": {},
   "outputs": [
    {
     "name": "stdout",
     "output_type": "stream",
     "text": [
      "This\n",
      "That\n",
      "me\n"
     ]
    }
   ],
   "source": [
    "print('This')\n",
    "print('That')\n",
    "print('me')"
   ]
  },
  {
   "cell_type": "markdown",
   "id": "d3202002",
   "metadata": {},
   "source": [
    "# Main Heading"
   ]
  },
  {
   "cell_type": "markdown",
   "id": "c4562033",
   "metadata": {},
   "source": [
    "## Sub Heading"
   ]
  },
  {
   "cell_type": "markdown",
   "id": "f160834d",
   "metadata": {},
   "source": [
    "# Data Preporcessing"
   ]
  },
  {
   "cell_type": "raw",
   "id": "2514af8d",
   "metadata": {},
   "source": [
    "This is the Raw output\""
   ]
  },
  {
   "cell_type": "raw",
   "id": "976f2bf2",
   "metadata": {},
   "source": [
    "This is the Raw output"
   ]
  },
  {
   "cell_type": "markdown",
   "id": "7e7b53ed",
   "metadata": {},
   "source": [
    "# Numbers"
   ]
  },
  {
   "cell_type": "code",
   "execution_count": 5,
   "id": "6a0013ce",
   "metadata": {},
   "outputs": [
    {
     "data": {
      "text/plain": [
       "3"
      ]
     },
     "execution_count": 5,
     "metadata": {},
     "output_type": "execute_result"
    }
   ],
   "source": [
    "2+1 # Addition"
   ]
  },
  {
   "cell_type": "code",
   "execution_count": 6,
   "id": "620fd9fc",
   "metadata": {},
   "outputs": [
    {
     "data": {
      "text/plain": [
       "6"
      ]
     },
     "execution_count": 6,
     "metadata": {},
     "output_type": "execute_result"
    }
   ],
   "source": [
    "2*3"
   ]
  },
  {
   "cell_type": "code",
   "execution_count": 7,
   "id": "f0884f8f",
   "metadata": {},
   "outputs": [
    {
     "data": {
      "text/plain": [
       "1"
      ]
     },
     "execution_count": 7,
     "metadata": {},
     "output_type": "execute_result"
    }
   ],
   "source": [
    "3-2"
   ]
  },
  {
   "cell_type": "code",
   "execution_count": 8,
   "id": "3ca756fc",
   "metadata": {},
   "outputs": [
    {
     "data": {
      "text/plain": [
       "1.5"
      ]
     },
     "execution_count": 8,
     "metadata": {},
     "output_type": "execute_result"
    }
   ],
   "source": [
    "3/2"
   ]
  },
  {
   "cell_type": "code",
   "execution_count": 11,
   "id": "12a11058",
   "metadata": {},
   "outputs": [
    {
     "data": {
      "text/plain": [
       "243"
      ]
     },
     "execution_count": 11,
     "metadata": {},
     "output_type": "execute_result"
    }
   ],
   "source": [
    "3**5 # Exponent"
   ]
  },
  {
   "cell_type": "code",
   "execution_count": 12,
   "id": "3caad93f",
   "metadata": {},
   "outputs": [
    {
     "data": {
      "text/plain": [
       "1"
      ]
     },
     "execution_count": 12,
     "metadata": {},
     "output_type": "execute_result"
    }
   ],
   "source": [
    "7//4 # Floor Division"
   ]
  },
  {
   "cell_type": "code",
   "execution_count": 13,
   "id": "27e54967",
   "metadata": {},
   "outputs": [
    {
     "data": {
      "text/plain": [
       "3"
      ]
     },
     "execution_count": 13,
     "metadata": {},
     "output_type": "execute_result"
    }
   ],
   "source": [
    "7 % 4 # Modulo Operator :Remainder"
   ]
  },
  {
   "cell_type": "markdown",
   "id": "cb6146fa",
   "metadata": {},
   "source": [
    "# Variable Assignment"
   ]
  },
  {
   "cell_type": "code",
   "execution_count": 14,
   "id": "5ab01f11",
   "metadata": {},
   "outputs": [],
   "source": [
    "a = 5"
   ]
  },
  {
   "cell_type": "code",
   "execution_count": 15,
   "id": "07f7717b",
   "metadata": {},
   "outputs": [
    {
     "data": {
      "text/plain": [
       "5"
      ]
     },
     "execution_count": 15,
     "metadata": {},
     "output_type": "execute_result"
    }
   ],
   "source": [
    "a"
   ]
  },
  {
   "cell_type": "code",
   "execution_count": 16,
   "id": "be1798c5",
   "metadata": {},
   "outputs": [],
   "source": [
    "a = 10"
   ]
  },
  {
   "cell_type": "code",
   "execution_count": 17,
   "id": "9072646b",
   "metadata": {},
   "outputs": [
    {
     "data": {
      "text/plain": [
       "10"
      ]
     },
     "execution_count": 17,
     "metadata": {},
     "output_type": "execute_result"
    }
   ],
   "source": [
    "a"
   ]
  },
  {
   "cell_type": "code",
   "execution_count": 18,
   "id": "3fcf23fd",
   "metadata": {},
   "outputs": [],
   "source": [
    "b = 5"
   ]
  },
  {
   "cell_type": "code",
   "execution_count": 19,
   "id": "6b96024d",
   "metadata": {},
   "outputs": [
    {
     "data": {
      "text/plain": [
       "5"
      ]
     },
     "execution_count": 19,
     "metadata": {},
     "output_type": "execute_result"
    }
   ],
   "source": [
    "b"
   ]
  },
  {
   "cell_type": "markdown",
   "id": "76433298",
   "metadata": {},
   "source": [
    "## Camel Casing"
   ]
  },
  {
   "cell_type": "code",
   "execution_count": 22,
   "id": "7988538b",
   "metadata": {},
   "outputs": [],
   "source": [
    "Pratul_Goyal = \"Python Trainer\""
   ]
  },
  {
   "cell_type": "code",
   "execution_count": 23,
   "id": "67c15c46",
   "metadata": {},
   "outputs": [
    {
     "data": {
      "text/plain": [
       "'Python Trainer'"
      ]
     },
     "execution_count": 23,
     "metadata": {},
     "output_type": "execute_result"
    }
   ],
   "source": [
    "Pratul_Goyal"
   ]
  },
  {
   "cell_type": "code",
   "execution_count": 24,
   "id": "9691edd9",
   "metadata": {},
   "outputs": [
    {
     "data": {
      "text/plain": [
       "10"
      ]
     },
     "execution_count": 24,
     "metadata": {},
     "output_type": "execute_result"
    }
   ],
   "source": [
    "a"
   ]
  },
  {
   "cell_type": "code",
   "execution_count": 25,
   "id": "56f4f0e1",
   "metadata": {},
   "outputs": [],
   "source": [
    "c = a"
   ]
  },
  {
   "cell_type": "code",
   "execution_count": 26,
   "id": "bfd83551",
   "metadata": {},
   "outputs": [
    {
     "data": {
      "text/plain": [
       "10"
      ]
     },
     "execution_count": 26,
     "metadata": {},
     "output_type": "execute_result"
    }
   ],
   "source": [
    "c"
   ]
  },
  {
   "cell_type": "code",
   "execution_count": 31,
   "id": "9a234c95",
   "metadata": {},
   "outputs": [],
   "source": [
    "#Reassignment\n",
    "a = a + a"
   ]
  },
  {
   "cell_type": "code",
   "execution_count": 32,
   "id": "d57d9485",
   "metadata": {},
   "outputs": [
    {
     "data": {
      "text/plain": [
       "80"
      ]
     },
     "execution_count": 32,
     "metadata": {},
     "output_type": "execute_result"
    }
   ],
   "source": [
    "a"
   ]
  },
  {
   "cell_type": "code",
   "execution_count": 50,
   "id": "c7251348",
   "metadata": {},
   "outputs": [],
   "source": [
    "#Little Coding\n",
    "\n",
    "My_Income = 100\n",
    "Tax_Rate = 0.1\n",
    "My_Taxes = My_Income*Tax_Rate"
   ]
  },
  {
   "cell_type": "code",
   "execution_count": 34,
   "id": "34d3cded",
   "metadata": {},
   "outputs": [
    {
     "data": {
      "text/plain": [
       "10.0"
      ]
     },
     "execution_count": 34,
     "metadata": {},
     "output_type": "execute_result"
    }
   ],
   "source": [
    "My_Taxes"
   ]
  },
  {
   "cell_type": "markdown",
   "id": "ad6194be",
   "metadata": {},
   "source": [
    "# String"
   ]
  },
  {
   "cell_type": "code",
   "execution_count": 35,
   "id": "caecd259",
   "metadata": {},
   "outputs": [
    {
     "data": {
      "text/plain": [
       "'This is a String'"
      ]
     },
     "execution_count": 35,
     "metadata": {},
     "output_type": "execute_result"
    }
   ],
   "source": [
    "\"This is a String\""
   ]
  },
  {
   "cell_type": "code",
   "execution_count": 36,
   "id": "3b9c4bd7",
   "metadata": {},
   "outputs": [
    {
     "data": {
      "text/plain": [
       "'This is a String'"
      ]
     },
     "execution_count": 36,
     "metadata": {},
     "output_type": "execute_result"
    }
   ],
   "source": [
    "'This is a String'"
   ]
  },
  {
   "cell_type": "code",
   "execution_count": 38,
   "id": "b78e8f73",
   "metadata": {},
   "outputs": [
    {
     "ename": "SyntaxError",
     "evalue": "EOL while scanning string literal (3966714144.py, line 1)",
     "output_type": "error",
     "traceback": [
      "\u001b[1;36m  Input \u001b[1;32mIn [38]\u001b[1;36m\u001b[0m\n\u001b[1;33m    \"This is an issue'\u001b[0m\n\u001b[1;37m                      ^\u001b[0m\n\u001b[1;31mSyntaxError\u001b[0m\u001b[1;31m:\u001b[0m EOL while scanning string literal\n"
     ]
    }
   ],
   "source": [
    "\"This is an issue'"
   ]
  },
  {
   "cell_type": "code",
   "execution_count": 39,
   "id": "f1988223",
   "metadata": {},
   "outputs": [
    {
     "data": {
      "text/plain": [
       "'Hello World 2'"
      ]
     },
     "execution_count": 39,
     "metadata": {},
     "output_type": "execute_result"
    }
   ],
   "source": [
    "\"Hello World 1\"\n",
    "\"Hello World 2\""
   ]
  },
  {
   "cell_type": "code",
   "execution_count": 40,
   "id": "5475e9f1",
   "metadata": {},
   "outputs": [
    {
     "name": "stdout",
     "output_type": "stream",
     "text": [
      "Hello World 1\n",
      "Hello World 2\n"
     ]
    }
   ],
   "source": [
    "print(\"Hello World 1\")\n",
    "print(\"Hello World 2\")"
   ]
  },
  {
   "cell_type": "code",
   "execution_count": 41,
   "id": "6828e15b",
   "metadata": {},
   "outputs": [
    {
     "data": {
      "text/plain": [
       "'21'"
      ]
     },
     "execution_count": 41,
     "metadata": {},
     "output_type": "execute_result"
    }
   ],
   "source": [
    "'21'"
   ]
  },
  {
   "cell_type": "code",
   "execution_count": 42,
   "id": "386565b7",
   "metadata": {},
   "outputs": [
    {
     "data": {
      "text/plain": [
       "str"
      ]
     },
     "execution_count": 42,
     "metadata": {},
     "output_type": "execute_result"
    }
   ],
   "source": [
    "type('21')"
   ]
  },
  {
   "cell_type": "code",
   "execution_count": 43,
   "id": "9b184b0a",
   "metadata": {},
   "outputs": [
    {
     "data": {
      "text/plain": [
       "int"
      ]
     },
     "execution_count": 43,
     "metadata": {},
     "output_type": "execute_result"
    }
   ],
   "source": [
    "type(21)"
   ]
  },
  {
   "cell_type": "code",
   "execution_count": 48,
   "id": "03232819",
   "metadata": {},
   "outputs": [
    {
     "data": {
      "text/plain": [
       "11"
      ]
     },
     "execution_count": 48,
     "metadata": {},
     "output_type": "execute_result"
    }
   ],
   "source": [
    "len('HELLO WORLD')"
   ]
  },
  {
   "cell_type": "code",
   "execution_count": 49,
   "id": "8dc5257c",
   "metadata": {},
   "outputs": [
    {
     "data": {
      "text/plain": [
       "2"
      ]
     },
     "execution_count": 49,
     "metadata": {},
     "output_type": "execute_result"
    }
   ],
   "source": [
    "len('21')"
   ]
  },
  {
   "cell_type": "code",
   "execution_count": 51,
   "id": "b3ddaf3f",
   "metadata": {},
   "outputs": [],
   "source": [
    "s = 'Hello World'"
   ]
  },
  {
   "cell_type": "code",
   "execution_count": 52,
   "id": "6c71bb5b",
   "metadata": {},
   "outputs": [
    {
     "data": {
      "text/plain": [
       "'Hello World'"
      ]
     },
     "execution_count": 52,
     "metadata": {},
     "output_type": "execute_result"
    }
   ],
   "source": [
    "s"
   ]
  },
  {
   "cell_type": "code",
   "execution_count": 53,
   "id": "e6eef044",
   "metadata": {},
   "outputs": [
    {
     "data": {
      "text/plain": [
       "'H'"
      ]
     },
     "execution_count": 53,
     "metadata": {},
     "output_type": "execute_result"
    }
   ],
   "source": [
    "s[0]"
   ]
  },
  {
   "cell_type": "code",
   "execution_count": 54,
   "id": "08f0d237",
   "metadata": {},
   "outputs": [
    {
     "data": {
      "text/plain": [
       "'d'"
      ]
     },
     "execution_count": 54,
     "metadata": {},
     "output_type": "execute_result"
    }
   ],
   "source": [
    "s[10]"
   ]
  },
  {
   "cell_type": "code",
   "execution_count": 55,
   "id": "5021e157",
   "metadata": {},
   "outputs": [
    {
     "ename": "IndexError",
     "evalue": "string index out of range",
     "output_type": "error",
     "traceback": [
      "\u001b[1;31m---------------------------------------------------------------------------\u001b[0m",
      "\u001b[1;31mIndexError\u001b[0m                                Traceback (most recent call last)",
      "Input \u001b[1;32mIn [55]\u001b[0m, in \u001b[0;36m<cell line: 1>\u001b[1;34m()\u001b[0m\n\u001b[1;32m----> 1\u001b[0m \u001b[43ms\u001b[49m\u001b[43m[\u001b[49m\u001b[38;5;241;43m11\u001b[39;49m\u001b[43m]\u001b[49m\n",
      "\u001b[1;31mIndexError\u001b[0m: string index out of range"
     ]
    }
   ],
   "source": [
    "s[11]"
   ]
  },
  {
   "cell_type": "code",
   "execution_count": 56,
   "id": "9a3005aa",
   "metadata": {},
   "outputs": [
    {
     "data": {
      "text/plain": [
       "'d'"
      ]
     },
     "execution_count": 56,
     "metadata": {},
     "output_type": "execute_result"
    }
   ],
   "source": [
    "s[-1]"
   ]
  },
  {
   "cell_type": "code",
   "execution_count": 57,
   "id": "6e06932c",
   "metadata": {},
   "outputs": [
    {
     "data": {
      "text/plain": [
       "'l'"
      ]
     },
     "execution_count": 57,
     "metadata": {},
     "output_type": "execute_result"
    }
   ],
   "source": [
    "s[-2]"
   ]
  },
  {
   "cell_type": "code",
   "execution_count": 59,
   "id": "1a2c821b",
   "metadata": {},
   "outputs": [
    {
     "data": {
      "text/plain": [
       "'ello World'"
      ]
     },
     "execution_count": 59,
     "metadata": {},
     "output_type": "execute_result"
    }
   ],
   "source": [
    "s[1:]"
   ]
  },
  {
   "cell_type": "code",
   "execution_count": 60,
   "id": "572b538b",
   "metadata": {},
   "outputs": [
    {
     "data": {
      "text/plain": [
       "'llo World'"
      ]
     },
     "execution_count": 60,
     "metadata": {},
     "output_type": "execute_result"
    }
   ],
   "source": [
    "s[2:]"
   ]
  },
  {
   "cell_type": "code",
   "execution_count": 61,
   "id": "a8be2ede",
   "metadata": {},
   "outputs": [
    {
     "data": {
      "text/plain": [
       "'lo W'"
      ]
     },
     "execution_count": 61,
     "metadata": {},
     "output_type": "execute_result"
    }
   ],
   "source": [
    "s[3:7]"
   ]
  },
  {
   "cell_type": "code",
   "execution_count": 62,
   "id": "7b1233e5",
   "metadata": {},
   "outputs": [
    {
     "data": {
      "text/plain": [
       "'ello Wor'"
      ]
     },
     "execution_count": 62,
     "metadata": {},
     "output_type": "execute_result"
    }
   ],
   "source": [
    "s[1:9]"
   ]
  },
  {
   "cell_type": "code",
   "execution_count": 63,
   "id": "78698965",
   "metadata": {},
   "outputs": [
    {
     "data": {
      "text/plain": [
       "'el o'"
      ]
     },
     "execution_count": 63,
     "metadata": {},
     "output_type": "execute_result"
    }
   ],
   "source": [
    "s[1:9:2]"
   ]
  },
  {
   "cell_type": "code",
   "execution_count": 64,
   "id": "8567a9e6",
   "metadata": {},
   "outputs": [],
   "source": [
    "d = \"HARRY PORTER\""
   ]
  },
  {
   "cell_type": "code",
   "execution_count": 65,
   "id": "0185c383",
   "metadata": {},
   "outputs": [
    {
     "data": {
      "text/plain": [
       "'HARRY PORTER'"
      ]
     },
     "execution_count": 65,
     "metadata": {},
     "output_type": "execute_result"
    }
   ],
   "source": [
    "d"
   ]
  },
  {
   "cell_type": "code",
   "execution_count": 66,
   "id": "80183550",
   "metadata": {},
   "outputs": [
    {
     "data": {
      "text/plain": [
       "'HRPT'"
      ]
     },
     "execution_count": 66,
     "metadata": {},
     "output_type": "execute_result"
    }
   ],
   "source": [
    "d[0:10:3]"
   ]
  },
  {
   "cell_type": "code",
   "execution_count": 67,
   "id": "5b118475",
   "metadata": {},
   "outputs": [
    {
     "data": {
      "text/plain": [
       "'HARRY PORTE'"
      ]
     },
     "execution_count": 67,
     "metadata": {},
     "output_type": "execute_result"
    }
   ],
   "source": [
    "d[:-1]"
   ]
  },
  {
   "cell_type": "code",
   "execution_count": 68,
   "id": "10a2f685",
   "metadata": {},
   "outputs": [
    {
     "data": {
      "text/plain": [
       "'HARRY PORT'"
      ]
     },
     "execution_count": 68,
     "metadata": {},
     "output_type": "execute_result"
    }
   ],
   "source": [
    "d[:-2]"
   ]
  },
  {
   "cell_type": "code",
   "execution_count": 69,
   "id": "30fec70d",
   "metadata": {},
   "outputs": [
    {
     "data": {
      "text/plain": [
       "'HRPT'"
      ]
     },
     "execution_count": 69,
     "metadata": {},
     "output_type": "execute_result"
    }
   ],
   "source": [
    "d[:10:3]"
   ]
  },
  {
   "cell_type": "code",
   "execution_count": 70,
   "id": "e0cc1234",
   "metadata": {},
   "outputs": [
    {
     "data": {
      "text/plain": [
       "'RETROP YRRAH'"
      ]
     },
     "execution_count": 70,
     "metadata": {},
     "output_type": "execute_result"
    }
   ],
   "source": [
    "d[::-1]"
   ]
  },
  {
   "cell_type": "code",
   "execution_count": 71,
   "id": "4dd3a840",
   "metadata": {},
   "outputs": [
    {
     "data": {
      "text/plain": [
       "'RTO RA'"
      ]
     },
     "execution_count": 71,
     "metadata": {},
     "output_type": "execute_result"
    }
   ],
   "source": [
    "d[::-2]"
   ]
  },
  {
   "cell_type": "markdown",
   "id": "e22893e9",
   "metadata": {},
   "source": [
    "___\n",
    "THE END\n",
    "___"
   ]
  }
 ],
 "metadata": {
  "kernelspec": {
   "display_name": "Python 3 (ipykernel)",
   "language": "python",
   "name": "python3"
  },
  "language_info": {
   "codemirror_mode": {
    "name": "ipython",
    "version": 3
   },
   "file_extension": ".py",
   "mimetype": "text/x-python",
   "name": "python",
   "nbconvert_exporter": "python",
   "pygments_lexer": "ipython3",
   "version": "3.9.12"
  }
 },
 "nbformat": 4,
 "nbformat_minor": 5
}
