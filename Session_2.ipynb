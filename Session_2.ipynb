{
 "cells": [
  {
   "cell_type": "code",
   "execution_count": null,
   "id": "b4c1d494",
   "metadata": {
    "id": "b4c1d494"
   },
   "outputs": [],
   "source": [
    "s = \"Hello World\""
   ]
  },
  {
   "cell_type": "code",
   "execution_count": null,
   "id": "1227cfaf",
   "metadata": {
    "id": "1227cfaf",
    "outputId": "0fa70375-1fd1-41fa-ff60-143c527798d1"
   },
   "outputs": [
    {
     "data": {
      "text/plain": [
       "'el '"
      ]
     },
     "execution_count": 2,
     "metadata": {},
     "output_type": "execute_result"
    }
   ],
   "source": [
    "s[1:6:2]"
   ]
  },
  {
   "cell_type": "code",
   "execution_count": null,
   "id": "28582a8c",
   "metadata": {
    "id": "28582a8c",
    "outputId": "3b39366a-8858-4797-9e06-fe15341c56e0"
   },
   "outputs": [
    {
     "data": {
      "text/plain": [
       "'Hello World'"
      ]
     },
     "execution_count": 3,
     "metadata": {},
     "output_type": "execute_result"
    }
   ],
   "source": [
    "s"
   ]
  },
  {
   "cell_type": "code",
   "execution_count": null,
   "id": "3c9b29b8",
   "metadata": {
    "id": "3c9b29b8",
    "outputId": "c9c91ae9-9c42-441f-c165-aa9ed030f367"
   },
   "outputs": [
    {
     "data": {
      "text/plain": [
       "'Hello World Concatenate Me Concatenate Me also'"
      ]
     },
     "execution_count": 4,
     "metadata": {},
     "output_type": "execute_result"
    }
   ],
   "source": [
    "s + \" Concatenate Me\" + \" Concatenate Me also\""
   ]
  },
  {
   "cell_type": "code",
   "execution_count": null,
   "id": "59b6c8a9",
   "metadata": {
    "id": "59b6c8a9",
    "outputId": "f0e7756b-edc1-4a68-8b4e-e43fe8178f3f"
   },
   "outputs": [
    {
     "ename": "TypeError",
     "evalue": "can only concatenate str (not \"int\") to str",
     "output_type": "error",
     "traceback": [
      "\u001b[1;31m---------------------------------------------------------------------------\u001b[0m",
      "\u001b[1;31mTypeError\u001b[0m                                 Traceback (most recent call last)",
      "Input \u001b[1;32mIn [5]\u001b[0m, in \u001b[0;36m<cell line: 1>\u001b[1;34m()\u001b[0m\n\u001b[1;32m----> 1\u001b[0m \u001b[43ms\u001b[49m\u001b[43m \u001b[49m\u001b[38;5;241;43m+\u001b[39;49m\u001b[43m \u001b[49m\u001b[38;5;124;43m\"\u001b[39;49m\u001b[38;5;124;43m Concatenate Me\u001b[39;49m\u001b[38;5;124;43m\"\u001b[39;49m\u001b[43m \u001b[49m\u001b[38;5;241;43m+\u001b[39;49m\u001b[43m \u001b[49m\u001b[38;5;241;43m23\u001b[39;49m\n",
      "\u001b[1;31mTypeError\u001b[0m: can only concatenate str (not \"int\") to str"
     ]
    }
   ],
   "source": [
    "s + \" Concatenate Me\" + 23"
   ]
  },
  {
   "cell_type": "code",
   "execution_count": null,
   "id": "a10f6167",
   "metadata": {
    "id": "a10f6167"
   },
   "outputs": [],
   "source": [
    "s.upper()"
   ]
  },
  {
   "cell_type": "code",
   "execution_count": null,
   "id": "b626cc91",
   "metadata": {
    "id": "b626cc91"
   },
   "outputs": [],
   "source": [
    "s.lower()"
   ]
  },
  {
   "cell_type": "markdown",
   "id": "1870f287",
   "metadata": {
    "id": "1870f287"
   },
   "source": [
    "# Print Formatting"
   ]
  },
  {
   "cell_type": "code",
   "execution_count": null,
   "id": "718e497f",
   "metadata": {
    "id": "718e497f",
    "outputId": "daea3ac5-19e8-45b1-cb5d-d1cd7a7d455f"
   },
   "outputs": [
    {
     "name": "stdout",
     "output_type": "stream",
     "text": [
      "I m going to inject something here.\n"
     ]
    }
   ],
   "source": [
    "print(\"I m going to inject %s here.\" %'something')"
   ]
  },
  {
   "cell_type": "code",
   "execution_count": null,
   "id": "73d7cfa6",
   "metadata": {
    "id": "73d7cfa6",
    "outputId": "10dc2f39-d5f7-4aa5-8203-2ead837647df"
   },
   "outputs": [
    {
     "name": "stdout",
     "output_type": "stream",
     "text": [
      "I m going to inject something and here also something here.\n"
     ]
    }
   ],
   "source": [
    "print(\"I m going to inject %s and here also %s.\" %('something','something here'))"
   ]
  },
  {
   "cell_type": "code",
   "execution_count": null,
   "id": "cddafb1c",
   "metadata": {
    "id": "cddafb1c",
    "outputId": "c68506c5-2ea7-4e37-b7a5-5c4ea3dd345a"
   },
   "outputs": [
    {
     "name": "stdout",
     "output_type": "stream",
     "text": [
      "He said his name was Pratul.\n",
      "He said his name was 23.\n"
     ]
    }
   ],
   "source": [
    "print('He said his name was %s.' %'Pratul')\n",
    "print('He said his name was %r.' %23)"
   ]
  },
  {
   "cell_type": "code",
   "execution_count": null,
   "id": "c6fee32b",
   "metadata": {
    "id": "c6fee32b",
    "outputId": "0b71333b-8bdf-46cd-f2d1-9a3742afcdbf"
   },
   "outputs": [
    {
     "name": "stdout",
     "output_type": "stream",
     "text": [
      "Floating point numbers:              13.134256728\n"
     ]
    }
   ],
   "source": [
    "print('Floating point numbers: %25.9f' %(13.1342567283635463))"
   ]
  },
  {
   "cell_type": "code",
   "execution_count": null,
   "id": "fe031cf7",
   "metadata": {
    "id": "fe031cf7",
    "outputId": "8837465a-e29b-4f84-c1c8-07abd68410f0"
   },
   "outputs": [
    {
     "name": "stdout",
     "output_type": "stream",
     "text": [
      "First hi, Second: 3.12, Third: 'bye'\n"
     ]
    }
   ],
   "source": [
    "print('First %s, Second: %0.2f, Third: %r' %('hi',3.123456,'bye'))"
   ]
  },
  {
   "cell_type": "code",
   "execution_count": null,
   "id": "f5d65832",
   "metadata": {
    "id": "f5d65832",
    "outputId": "17744c4c-93e4-42e0-e5ed-dc64409977dd"
   },
   "outputs": [
    {
     "name": "stdout",
     "output_type": "stream",
     "text": [
      "This is a string with an insert\n"
     ]
    }
   ],
   "source": [
    "print('This is a string with an {}'.format('insert'))"
   ]
  },
  {
   "cell_type": "code",
   "execution_count": null,
   "id": "9ea4b719",
   "metadata": {
    "id": "9ea4b719",
    "outputId": "1c680033-9a33-4be2-f923-1c0505bfeec0"
   },
   "outputs": [
    {
     "name": "stdout",
     "output_type": "stream",
     "text": [
      "This third second first\n"
     ]
    }
   ],
   "source": [
    "print('This {2} {1} {0}'.format('first','second','third'))"
   ]
  },
  {
   "cell_type": "code",
   "execution_count": null,
   "id": "a7d64d81",
   "metadata": {
    "id": "a7d64d81",
    "outputId": "1282dbb6-d678-4459-e2a6-0ec071f0bc67"
   },
   "outputs": [
    {
     "name": "stdout",
     "output_type": "stream",
     "text": [
      "This second third first\n"
     ]
    }
   ],
   "source": [
    "print('This {1} {2} {0}'.format('first','second','third'))"
   ]
  },
  {
   "cell_type": "code",
   "execution_count": null,
   "id": "e0c7dc28",
   "metadata": {
    "id": "e0c7dc28",
    "outputId": "08b95344-382f-4f7f-a2fe-8c430e98ed6e"
   },
   "outputs": [
    {
     "name": "stdout",
     "output_type": "stream",
     "text": [
      "He said his name is Sakshi\n"
     ]
    }
   ],
   "source": [
    "name = 'Sakshi'\n",
    "\n",
    "print(f\"He said his name is {name}\") #Formatted String Literals"
   ]
  },
  {
   "cell_type": "code",
   "execution_count": null,
   "id": "96581817",
   "metadata": {
    "id": "96581817",
    "outputId": "4f67b06e-8f93-4317-9b5a-fc7dfe7572e4"
   },
   "outputs": [
    {
     "name": "stdout",
     "output_type": "stream",
     "text": [
      "\n"
     ]
    },
    {
     "ename": "ValueError",
     "evalue": "invalid literal for int() with base 10: ''",
     "output_type": "error",
     "traceback": [
      "\u001b[1;31m---------------------------------------------------------------------------\u001b[0m",
      "\u001b[1;31mValueError\u001b[0m                                Traceback (most recent call last)",
      "Input \u001b[1;32mIn [15]\u001b[0m, in \u001b[0;36m<cell line: 1>\u001b[1;34m()\u001b[0m\n\u001b[1;32m----> 1\u001b[0m a \u001b[38;5;241m=\u001b[39m \u001b[38;5;28;43mint\u001b[39;49m\u001b[43m(\u001b[49m\u001b[38;5;28;43minput\u001b[39;49m\u001b[43m(\u001b[49m\u001b[43m)\u001b[49m\u001b[43m)\u001b[49m\n\u001b[0;32m      2\u001b[0m \u001b[38;5;28mprint\u001b[39m(\u001b[38;5;124mf\u001b[39m\u001b[38;5;124m\"\u001b[39m\u001b[38;5;124mhttps://books.toscrape.com/catalogue/page-\u001b[39m\u001b[38;5;132;01m{\u001b[39;00ma\u001b[38;5;132;01m}\u001b[39;00m\u001b[38;5;124m.html\u001b[39m\u001b[38;5;124m\"\u001b[39m)\n",
      "\u001b[1;31mValueError\u001b[0m: invalid literal for int() with base 10: ''"
     ]
    }
   ],
   "source": [
    "a = int(input())\n",
    "print(f\"https://books.toscrape.com/catalogue/page-{a}.html\")"
   ]
  },
  {
   "cell_type": "markdown",
   "id": "4a0fe6e5",
   "metadata": {
    "id": "4a0fe6e5"
   },
   "source": [
    "# List"
   ]
  },
  {
   "cell_type": "code",
   "execution_count": null,
   "id": "33075b39",
   "metadata": {
    "id": "33075b39"
   },
   "outputs": [],
   "source": [
    "List = ['Pratul',23,23.56]"
   ]
  },
  {
   "cell_type": "code",
   "execution_count": null,
   "id": "8470aef1",
   "metadata": {
    "id": "8470aef1",
    "outputId": "0be458ce-8885-4549-fd4a-63fd7c8e44d0"
   },
   "outputs": [
    {
     "data": {
      "text/plain": [
       "['Pratul', 23, 23.56]"
      ]
     },
     "execution_count": 17,
     "metadata": {},
     "output_type": "execute_result"
    }
   ],
   "source": [
    "List"
   ]
  },
  {
   "cell_type": "code",
   "execution_count": null,
   "id": "3993285a",
   "metadata": {
    "id": "3993285a",
    "outputId": "f2b95cff-62a9-41fe-e3e5-c24a4e3bd3fa"
   },
   "outputs": [
    {
     "data": {
      "text/plain": [
       "3"
      ]
     },
     "execution_count": 18,
     "metadata": {},
     "output_type": "execute_result"
    }
   ],
   "source": [
    "len(List)"
   ]
  },
  {
   "cell_type": "code",
   "execution_count": null,
   "id": "fdc5083c",
   "metadata": {
    "id": "fdc5083c"
   },
   "outputs": [],
   "source": [
    "my_list = ['one','two','three',4.5]"
   ]
  },
  {
   "cell_type": "code",
   "execution_count": null,
   "id": "0edac520",
   "metadata": {
    "id": "0edac520",
    "outputId": "048dce3a-3736-4261-a473-b7a81b2f1d6c"
   },
   "outputs": [
    {
     "data": {
      "text/plain": [
       "4"
      ]
     },
     "execution_count": 20,
     "metadata": {},
     "output_type": "execute_result"
    }
   ],
   "source": [
    "len(my_list)"
   ]
  },
  {
   "cell_type": "code",
   "execution_count": null,
   "id": "39f111c9",
   "metadata": {
    "id": "39f111c9",
    "outputId": "2bf5fe33-3a41-4238-83b3-fde029a2ee2e"
   },
   "outputs": [
    {
     "data": {
      "text/plain": [
       "'one'"
      ]
     },
     "execution_count": 21,
     "metadata": {},
     "output_type": "execute_result"
    }
   ],
   "source": [
    "my_list[0]"
   ]
  },
  {
   "cell_type": "code",
   "execution_count": null,
   "id": "27d28e3b",
   "metadata": {
    "id": "27d28e3b",
    "outputId": "00560199-131f-47f9-be63-5048df56b06a"
   },
   "outputs": [
    {
     "data": {
      "text/plain": [
       "4.5"
      ]
     },
     "execution_count": 22,
     "metadata": {},
     "output_type": "execute_result"
    }
   ],
   "source": [
    "my_list[3]"
   ]
  },
  {
   "cell_type": "code",
   "execution_count": null,
   "id": "320d770e",
   "metadata": {
    "id": "320d770e",
    "outputId": "530896c5-8932-4f7b-a143-2a6d08e17ae5"
   },
   "outputs": [
    {
     "data": {
      "text/plain": [
       "['two', 'three']"
      ]
     },
     "execution_count": 23,
     "metadata": {},
     "output_type": "execute_result"
    }
   ],
   "source": [
    "my_list[1:3]"
   ]
  },
  {
   "cell_type": "code",
   "execution_count": null,
   "id": "e1a8f0d4",
   "metadata": {
    "id": "e1a8f0d4",
    "outputId": "dec5fea2-5fe0-4348-82aa-a4cf768c2d41"
   },
   "outputs": [
    {
     "data": {
      "text/plain": [
       "'e'"
      ]
     },
     "execution_count": 24,
     "metadata": {},
     "output_type": "execute_result"
    }
   ],
   "source": [
    "my_list[0][2]"
   ]
  },
  {
   "cell_type": "code",
   "execution_count": null,
   "id": "56fcb018",
   "metadata": {
    "id": "56fcb018",
    "outputId": "b591ec68-5a9f-429e-931e-5dea48b32283"
   },
   "outputs": [
    {
     "data": {
      "text/plain": [
       "'w'"
      ]
     },
     "execution_count": 25,
     "metadata": {},
     "output_type": "execute_result"
    }
   ],
   "source": [
    "my_list[1][1]"
   ]
  },
  {
   "cell_type": "code",
   "execution_count": null,
   "id": "c32a1596",
   "metadata": {
    "id": "c32a1596",
    "outputId": "84ec23cc-1637-46b6-a46c-1444b8ae754b"
   },
   "outputs": [
    {
     "data": {
      "text/plain": [
       "['one', 'three']"
      ]
     },
     "execution_count": 26,
     "metadata": {},
     "output_type": "execute_result"
    }
   ],
   "source": [
    "my_list[0:3:2]"
   ]
  },
  {
   "cell_type": "code",
   "execution_count": null,
   "id": "46cd9813",
   "metadata": {
    "id": "46cd9813",
    "outputId": "841bc18e-9bda-4bca-89e2-90fbb13a7bb4"
   },
   "outputs": [
    {
     "data": {
      "text/plain": [
       "['two', 4.5]"
      ]
     },
     "execution_count": 27,
     "metadata": {},
     "output_type": "execute_result"
    }
   ],
   "source": [
    "my_list[1:4:2]"
   ]
  },
  {
   "cell_type": "code",
   "execution_count": null,
   "id": "c1002e9a",
   "metadata": {
    "id": "c1002e9a"
   },
   "outputs": [],
   "source": [
    "list1 = [1,2,3]"
   ]
  },
  {
   "cell_type": "code",
   "execution_count": null,
   "id": "e2aa911f",
   "metadata": {
    "id": "e2aa911f"
   },
   "outputs": [],
   "source": [
    "list1.append('append me')"
   ]
  },
  {
   "cell_type": "code",
   "execution_count": null,
   "id": "9c146b34",
   "metadata": {
    "id": "9c146b34",
    "outputId": "e483d943-68fc-4145-bfa6-5665b5c3330f"
   },
   "outputs": [
    {
     "data": {
      "text/plain": [
       "[1, 2, 3, 'append me']"
      ]
     },
     "execution_count": 30,
     "metadata": {},
     "output_type": "execute_result"
    }
   ],
   "source": [
    "list1"
   ]
  },
  {
   "cell_type": "code",
   "execution_count": null,
   "id": "24a04e23",
   "metadata": {
    "id": "24a04e23"
   },
   "outputs": [],
   "source": [
    "a = []"
   ]
  },
  {
   "cell_type": "code",
   "execution_count": null,
   "id": "ec26eb35",
   "metadata": {
    "id": "ec26eb35"
   },
   "outputs": [],
   "source": [
    "a.append(1)"
   ]
  },
  {
   "cell_type": "code",
   "execution_count": null,
   "id": "e79d21be",
   "metadata": {
    "id": "e79d21be",
    "outputId": "d8486f86-2c08-450e-fe16-d78869de699f"
   },
   "outputs": [
    {
     "data": {
      "text/plain": [
       "[1]"
      ]
     },
     "execution_count": 33,
     "metadata": {},
     "output_type": "execute_result"
    }
   ],
   "source": [
    "a"
   ]
  },
  {
   "cell_type": "code",
   "execution_count": null,
   "id": "ad37edd0",
   "metadata": {
    "id": "ad37edd0"
   },
   "outputs": [],
   "source": [
    "a.append(2)"
   ]
  },
  {
   "cell_type": "code",
   "execution_count": null,
   "id": "d51ef9df",
   "metadata": {
    "id": "d51ef9df",
    "outputId": "6b0c6548-2724-4df2-a751-c195c35e2514"
   },
   "outputs": [
    {
     "data": {
      "text/plain": [
       "[1, 2]"
      ]
     },
     "execution_count": 35,
     "metadata": {},
     "output_type": "execute_result"
    }
   ],
   "source": [
    "a"
   ]
  },
  {
   "cell_type": "code",
   "execution_count": null,
   "id": "0f1242d5",
   "metadata": {
    "id": "0f1242d5"
   },
   "outputs": [],
   "source": [
    "a.append(3)"
   ]
  },
  {
   "cell_type": "code",
   "execution_count": null,
   "id": "681e5549",
   "metadata": {
    "id": "681e5549",
    "outputId": "8b52932a-da5b-452b-9724-c4e63792f964"
   },
   "outputs": [
    {
     "data": {
      "text/plain": [
       "[1, 2, 3]"
      ]
     },
     "execution_count": 37,
     "metadata": {},
     "output_type": "execute_result"
    }
   ],
   "source": [
    "a"
   ]
  },
  {
   "cell_type": "code",
   "execution_count": null,
   "id": "42ff7ebe",
   "metadata": {
    "id": "42ff7ebe",
    "outputId": "21a98a9c-1c4d-4b5c-e61c-e2b99ce4cb78"
   },
   "outputs": [
    {
     "data": {
      "text/plain": [
       "[1, 2, 3, 'append me']"
      ]
     },
     "execution_count": 38,
     "metadata": {},
     "output_type": "execute_result"
    }
   ],
   "source": [
    "list1"
   ]
  },
  {
   "cell_type": "code",
   "execution_count": null,
   "id": "224f5b60",
   "metadata": {
    "id": "224f5b60",
    "outputId": "1b30d0a0-e6d5-416f-ac95-1e094ab09ebe"
   },
   "outputs": [
    {
     "data": {
      "text/plain": [
       "1"
      ]
     },
     "execution_count": 39,
     "metadata": {},
     "output_type": "execute_result"
    }
   ],
   "source": [
    "list1.pop(0)"
   ]
  },
  {
   "cell_type": "code",
   "execution_count": null,
   "id": "700ae2ad",
   "metadata": {
    "id": "700ae2ad",
    "outputId": "18c3f9e5-bf1d-4714-ec66-cee43af740c3"
   },
   "outputs": [
    {
     "data": {
      "text/plain": [
       "[2, 3, 'append me']"
      ]
     },
     "execution_count": 40,
     "metadata": {},
     "output_type": "execute_result"
    }
   ],
   "source": [
    "list1"
   ]
  },
  {
   "cell_type": "code",
   "execution_count": null,
   "id": "b859bf25",
   "metadata": {
    "id": "b859bf25",
    "outputId": "4e6fe9a9-324e-4018-e770-2d71d4a11858"
   },
   "outputs": [
    {
     "data": {
      "text/plain": [
       "'append me'"
      ]
     },
     "execution_count": 41,
     "metadata": {},
     "output_type": "execute_result"
    }
   ],
   "source": [
    "list1.pop()"
   ]
  },
  {
   "cell_type": "code",
   "execution_count": null,
   "id": "40394867",
   "metadata": {
    "id": "40394867",
    "outputId": "7eec4783-0efa-4a5d-af55-44e416d631c2"
   },
   "outputs": [
    {
     "data": {
      "text/plain": [
       "[2, 3]"
      ]
     },
     "execution_count": 42,
     "metadata": {},
     "output_type": "execute_result"
    }
   ],
   "source": [
    "list1"
   ]
  },
  {
   "cell_type": "code",
   "execution_count": null,
   "id": "14392c81",
   "metadata": {
    "id": "14392c81"
   },
   "outputs": [],
   "source": [
    "my_list_update = ['one','two','three',4.5]"
   ]
  },
  {
   "cell_type": "code",
   "execution_count": null,
   "id": "e8b41016",
   "metadata": {
    "id": "e8b41016"
   },
   "outputs": [],
   "source": [
    "my_list_update[0] = 'Pratul'"
   ]
  },
  {
   "cell_type": "code",
   "execution_count": null,
   "id": "079bb7c6",
   "metadata": {
    "id": "079bb7c6",
    "outputId": "d3594ea7-8d53-470e-8fef-df517a217df3"
   },
   "outputs": [
    {
     "data": {
      "text/plain": [
       "['Pratul', 'two', 'three', 4.5]"
      ]
     },
     "execution_count": 45,
     "metadata": {},
     "output_type": "execute_result"
    }
   ],
   "source": [
    "my_list_update"
   ]
  },
  {
   "cell_type": "code",
   "execution_count": null,
   "id": "2ee6ab0b",
   "metadata": {
    "id": "2ee6ab0b",
    "outputId": "dcb628ba-790f-46b5-f406-166f1a1fdbdc"
   },
   "outputs": [
    {
     "ename": "TypeError",
     "evalue": "'str' object does not support item assignment",
     "output_type": "error",
     "traceback": [
      "\u001b[1;31m---------------------------------------------------------------------------\u001b[0m",
      "\u001b[1;31mTypeError\u001b[0m                                 Traceback (most recent call last)",
      "Input \u001b[1;32mIn [46]\u001b[0m, in \u001b[0;36m<cell line: 1>\u001b[1;34m()\u001b[0m\n\u001b[1;32m----> 1\u001b[0m my_list_update[\u001b[38;5;241m0\u001b[39m][\u001b[38;5;241m3\u001b[39m] \u001b[38;5;241m=\u001b[39m \u001b[38;5;124m'\u001b[39m\u001b[38;5;124mf\u001b[39m\u001b[38;5;124m'\u001b[39m\n",
      "\u001b[1;31mTypeError\u001b[0m: 'str' object does not support item assignment"
     ]
    }
   ],
   "source": [
    "my_list_update[0][3] = 'f'"
   ]
  },
  {
   "cell_type": "code",
   "execution_count": null,
   "id": "9b92a7c7",
   "metadata": {
    "id": "9b92a7c7"
   },
   "outputs": [],
   "source": [
    "new_list = ['a','e','i','o','u']"
   ]
  },
  {
   "cell_type": "code",
   "execution_count": null,
   "id": "cb0870b1",
   "metadata": {
    "id": "cb0870b1",
    "outputId": "9807385b-2c5c-48d7-d608-4b801e29af5d"
   },
   "outputs": [
    {
     "data": {
      "text/plain": [
       "['a', 'e', 'i', 'o', 'u']"
      ]
     },
     "execution_count": 48,
     "metadata": {},
     "output_type": "execute_result"
    }
   ],
   "source": [
    "new_list"
   ]
  },
  {
   "cell_type": "code",
   "execution_count": null,
   "id": "61bc4fa7",
   "metadata": {
    "id": "61bc4fa7"
   },
   "outputs": [],
   "source": [
    "new_list.reverse()"
   ]
  },
  {
   "cell_type": "code",
   "execution_count": null,
   "id": "4eac8614",
   "metadata": {
    "id": "4eac8614",
    "outputId": "4329a6e2-5c1d-4851-bf67-10dae55bea68"
   },
   "outputs": [
    {
     "data": {
      "text/plain": [
       "['u', 'o', 'i', 'e', 'a']"
      ]
     },
     "execution_count": 50,
     "metadata": {},
     "output_type": "execute_result"
    }
   ],
   "source": [
    "new_list"
   ]
  },
  {
   "cell_type": "code",
   "execution_count": null,
   "id": "217c49a6",
   "metadata": {
    "id": "217c49a6"
   },
   "outputs": [],
   "source": [
    "new_list_unsorted = ['u','i','o','e','a']"
   ]
  },
  {
   "cell_type": "code",
   "execution_count": null,
   "id": "f79b3726",
   "metadata": {
    "id": "f79b3726"
   },
   "outputs": [],
   "source": [
    "new_list_unsorted.sort(reverse=False)"
   ]
  },
  {
   "cell_type": "code",
   "execution_count": null,
   "id": "f8acbece",
   "metadata": {
    "id": "f8acbece",
    "outputId": "68cf808b-5f9c-4835-ebb9-8baf391a4cad"
   },
   "outputs": [
    {
     "data": {
      "text/plain": [
       "['a', 'e', 'i', 'o', 'u']"
      ]
     },
     "execution_count": 53,
     "metadata": {},
     "output_type": "execute_result"
    }
   ],
   "source": [
    "new_list_unsorted"
   ]
  },
  {
   "cell_type": "markdown",
   "id": "73ad8790",
   "metadata": {
    "id": "73ad8790"
   },
   "source": [
    "# Tuples"
   ]
  },
  {
   "cell_type": "code",
   "execution_count": null,
   "id": "2a0a5313",
   "metadata": {
    "id": "2a0a5313"
   },
   "outputs": [],
   "source": [
    "t = (1,2,3)"
   ]
  },
  {
   "cell_type": "code",
   "execution_count": null,
   "id": "417d56c3",
   "metadata": {
    "id": "417d56c3",
    "outputId": "220fee97-7739-4966-d739-c9308a85fa48"
   },
   "outputs": [
    {
     "data": {
      "text/plain": [
       "(1, 2, 3)"
      ]
     },
     "execution_count": 55,
     "metadata": {},
     "output_type": "execute_result"
    }
   ],
   "source": [
    "t"
   ]
  },
  {
   "cell_type": "code",
   "execution_count": null,
   "id": "a6b26606",
   "metadata": {
    "id": "a6b26606",
    "outputId": "2987788d-c6f2-427c-b986-42021b70cfea"
   },
   "outputs": [
    {
     "data": {
      "text/plain": [
       "3"
      ]
     },
     "execution_count": 56,
     "metadata": {},
     "output_type": "execute_result"
    }
   ],
   "source": [
    "len(t)"
   ]
  },
  {
   "cell_type": "code",
   "execution_count": null,
   "id": "52ab2a5d",
   "metadata": {
    "id": "52ab2a5d"
   },
   "outputs": [],
   "source": [
    "t = ('one',2,3.5)"
   ]
  },
  {
   "cell_type": "code",
   "execution_count": null,
   "id": "34216527",
   "metadata": {
    "id": "34216527",
    "outputId": "cfd7fde7-6bc0-4116-a1ee-e46aebc6ab9f"
   },
   "outputs": [
    {
     "data": {
      "text/plain": [
       "('one', 2, 3.5)"
      ]
     },
     "execution_count": 58,
     "metadata": {},
     "output_type": "execute_result"
    }
   ],
   "source": [
    "t"
   ]
  },
  {
   "cell_type": "code",
   "execution_count": null,
   "id": "27140f46",
   "metadata": {
    "id": "27140f46"
   },
   "outputs": [],
   "source": [
    "#Unmutable\n",
    "s = ('one',2,3.5)"
   ]
  },
  {
   "cell_type": "code",
   "execution_count": null,
   "id": "13e5e632",
   "metadata": {
    "id": "13e5e632",
    "outputId": "e7137ebb-a5a1-46eb-e41c-88d34472261b"
   },
   "outputs": [
    {
     "ename": "TypeError",
     "evalue": "'tuple' object does not support item assignment",
     "output_type": "error",
     "traceback": [
      "\u001b[1;31m---------------------------------------------------------------------------\u001b[0m",
      "\u001b[1;31mTypeError\u001b[0m                                 Traceback (most recent call last)",
      "Input \u001b[1;32mIn [60]\u001b[0m, in \u001b[0;36m<cell line: 1>\u001b[1;34m()\u001b[0m\n\u001b[1;32m----> 1\u001b[0m s[\u001b[38;5;241m0\u001b[39m] \u001b[38;5;241m=\u001b[39m \u001b[38;5;124m'\u001b[39m\u001b[38;5;124mme\u001b[39m\u001b[38;5;124m'\u001b[39m\n",
      "\u001b[1;31mTypeError\u001b[0m: 'tuple' object does not support item assignment"
     ]
    }
   ],
   "source": [
    "s[0] = 'me'"
   ]
  },
  {
   "cell_type": "code",
   "execution_count": null,
   "id": "9ccec72b",
   "metadata": {
    "id": "9ccec72b"
   },
   "outputs": [],
   "source": [
    "#mutable\n",
    "s = ['one',2,3.5]"
   ]
  },
  {
   "cell_type": "code",
   "execution_count": null,
   "id": "eac9db25",
   "metadata": {
    "id": "eac9db25"
   },
   "outputs": [],
   "source": [
    "s[0] = 'me'"
   ]
  },
  {
   "cell_type": "code",
   "execution_count": null,
   "id": "bd062502",
   "metadata": {
    "id": "bd062502",
    "outputId": "1454656d-456b-4175-8a0e-37dfa00f9b6a"
   },
   "outputs": [
    {
     "data": {
      "text/plain": [
       "['me', 2, 3.5]"
      ]
     },
     "execution_count": 63,
     "metadata": {},
     "output_type": "execute_result"
    }
   ],
   "source": [
    "s"
   ]
  },
  {
   "cell_type": "code",
   "execution_count": null,
   "id": "fd0bcef5",
   "metadata": {
    "id": "fd0bcef5"
   },
   "outputs": [],
   "source": [
    "d = ('one',2,3.5)"
   ]
  },
  {
   "cell_type": "code",
   "execution_count": null,
   "id": "d2b32d07",
   "metadata": {
    "id": "d2b32d07",
    "outputId": "7706911b-5ee6-4ee7-ae4e-e449eb1fbb69"
   },
   "outputs": [
    {
     "data": {
      "text/plain": [
       "('one', 2, 3.5)"
      ]
     },
     "execution_count": 65,
     "metadata": {},
     "output_type": "execute_result"
    }
   ],
   "source": [
    "d"
   ]
  },
  {
   "cell_type": "code",
   "execution_count": null,
   "id": "4e6273b8",
   "metadata": {
    "id": "4e6273b8",
    "outputId": "b25948ae-46fb-4fef-b79a-0a0a13b5ea34"
   },
   "outputs": [
    {
     "data": {
      "text/plain": [
       "0"
      ]
     },
     "execution_count": 66,
     "metadata": {},
     "output_type": "execute_result"
    }
   ],
   "source": [
    "d.index('one')"
   ]
  },
  {
   "cell_type": "code",
   "execution_count": null,
   "id": "0141e103",
   "metadata": {
    "id": "0141e103"
   },
   "outputs": [],
   "source": [
    "b = ('one',2,3.5,'one')"
   ]
  },
  {
   "cell_type": "code",
   "execution_count": null,
   "id": "887d927d",
   "metadata": {
    "id": "887d927d",
    "outputId": "061a4d73-a07b-4da6-e865-e9f4e86dba7f"
   },
   "outputs": [
    {
     "data": {
      "text/plain": [
       "2"
      ]
     },
     "execution_count": 68,
     "metadata": {},
     "output_type": "execute_result"
    }
   ],
   "source": [
    "b.count('one')"
   ]
  },
  {
   "cell_type": "code",
   "execution_count": null,
   "id": "b5df7f73",
   "metadata": {
    "id": "b5df7f73",
    "outputId": "bb245a03-73a4-4caa-a43b-82a323919778"
   },
   "outputs": [
    {
     "ename": "AttributeError",
     "evalue": "'tuple' object has no attribute 'append'",
     "output_type": "error",
     "traceback": [
      "\u001b[1;31m---------------------------------------------------------------------------\u001b[0m",
      "\u001b[1;31mAttributeError\u001b[0m                            Traceback (most recent call last)",
      "Input \u001b[1;32mIn [69]\u001b[0m, in \u001b[0;36m<cell line: 1>\u001b[1;34m()\u001b[0m\n\u001b[1;32m----> 1\u001b[0m \u001b[43mb\u001b[49m\u001b[38;5;241;43m.\u001b[39;49m\u001b[43mappend\u001b[49m(\u001b[38;5;124m'\u001b[39m\u001b[38;5;124mme\u001b[39m\u001b[38;5;124m'\u001b[39m)\n",
      "\u001b[1;31mAttributeError\u001b[0m: 'tuple' object has no attribute 'append'"
     ]
    }
   ],
   "source": [
    "b.append('me')"
   ]
  },
  {
   "cell_type": "raw",
   "id": "44ed7bd0",
   "metadata": {
    "id": "44ed7bd0"
   },
   "source": [
    "Given a tuple ('one','two','three','four') i want to append 'five' \n",
    "in the end so that final output looks like this ('one','two','three','four','five')"
   ]
  },
  {
   "cell_type": "code",
   "execution_count": null,
   "id": "96a64878",
   "metadata": {
    "id": "96a64878"
   },
   "outputs": [],
   "source": [
    "x = ('one','two','three','four')"
   ]
  },
  {
   "cell_type": "code",
   "execution_count": null,
   "id": "9b226ebc",
   "metadata": {
    "id": "9b226ebc",
    "outputId": "f2bbd058-62f2-41fc-8f46-9579ce2e35f3"
   },
   "outputs": [
    {
     "data": {
      "text/plain": [
       "('one', 'two', 'three', 'four')"
      ]
     },
     "execution_count": 71,
     "metadata": {},
     "output_type": "execute_result"
    }
   ],
   "source": [
    "x"
   ]
  },
  {
   "cell_type": "code",
   "execution_count": null,
   "id": "a45d095f",
   "metadata": {
    "id": "a45d095f"
   },
   "outputs": [],
   "source": [
    "y = list(x)"
   ]
  },
  {
   "cell_type": "code",
   "execution_count": null,
   "id": "dca7647a",
   "metadata": {
    "id": "dca7647a",
    "outputId": "6265c9d8-4097-43a4-d6e1-a94782b4ebc7"
   },
   "outputs": [
    {
     "data": {
      "text/plain": [
       "('one', 'two', 'three', 'four', 'five')"
      ]
     },
     "execution_count": 73,
     "metadata": {},
     "output_type": "execute_result"
    }
   ],
   "source": [
    "y.append('five')\n",
    "y = tuple(y)\n",
    "y"
   ]
  },
  {
   "cell_type": "code",
   "execution_count": null,
   "id": "5f3023eb",
   "metadata": {
    "id": "5f3023eb",
    "outputId": "699d9f86-2f76-4f1a-b4dd-310442e50ee1"
   },
   "outputs": [
    {
     "name": "stdout",
     "output_type": "stream",
     "text": [
      "('one', 'two', 'three', 'four', 'five')\n"
     ]
    }
   ],
   "source": [
    "tup=('one','two','three','four')\n",
    "tup_list=list(tup)\n",
    "tup_list.append(\"five\")\n",
    "tup=tuple(tup_list)\n",
    "print(tup)"
   ]
  },
  {
   "cell_type": "code",
   "execution_count": null,
   "id": "2c26462d",
   "metadata": {
    "id": "2c26462d",
    "outputId": "b53d8165-7db0-4e16-cd5a-f3e39f36ea9a"
   },
   "outputs": [
    {
     "data": {
      "text/plain": [
       "'one'"
      ]
     },
     "execution_count": 76,
     "metadata": {},
     "output_type": "execute_result"
    }
   ],
   "source": [
    "t[0]"
   ]
  },
  {
   "cell_type": "markdown",
   "id": "47255be5",
   "metadata": {
    "id": "47255be5"
   },
   "source": [
    "# Dictionary"
   ]
  },
  {
   "cell_type": "code",
   "execution_count": null,
   "id": "afa848ef",
   "metadata": {
    "id": "afa848ef"
   },
   "outputs": [],
   "source": [
    "my_dict = {'key1':'value1','key2':'value2','key3':'value3'}"
   ]
  },
  {
   "cell_type": "code",
   "execution_count": null,
   "id": "314770dd",
   "metadata": {
    "id": "314770dd",
    "outputId": "f8456741-ce60-42c7-cc4a-f0b4ebaeeddc"
   },
   "outputs": [
    {
     "data": {
      "text/plain": [
       "{'key1': 'value1', 'key2': 'value2', 'key3': 'value3'}"
      ]
     },
     "execution_count": 83,
     "metadata": {},
     "output_type": "execute_result"
    }
   ],
   "source": [
    "my_dict"
   ]
  },
  {
   "cell_type": "code",
   "execution_count": null,
   "id": "0501798b",
   "metadata": {
    "id": "0501798b"
   },
   "outputs": [],
   "source": [
    "my_dict = {'Ram':22,'Sita':23,'varun':24}"
   ]
  },
  {
   "cell_type": "code",
   "execution_count": null,
   "id": "bd0d3f3c",
   "metadata": {
    "id": "bd0d3f3c",
    "outputId": "a52834e8-efcc-4cfc-c979-fbef68493566"
   },
   "outputs": [
    {
     "data": {
      "text/plain": [
       "{'Ram': 22, 'Sita': 23, 'varun': 24}"
      ]
     },
     "execution_count": 85,
     "metadata": {},
     "output_type": "execute_result"
    }
   ],
   "source": [
    "my_dict"
   ]
  },
  {
   "cell_type": "code",
   "execution_count": null,
   "id": "c140d95c",
   "metadata": {
    "id": "c140d95c"
   },
   "outputs": [],
   "source": [
    "my_dict = {'key1':123,'key2':[12,13,14],'key3':['item0','item1','item2','item3']}"
   ]
  },
  {
   "cell_type": "code",
   "execution_count": null,
   "id": "bd499b4c",
   "metadata": {
    "id": "bd499b4c",
    "outputId": "914cd63f-a2c1-43ff-c16d-e9d91c60571b"
   },
   "outputs": [
    {
     "data": {
      "text/plain": [
       "{'key1': 123,\n",
       " 'key2': [12, 13, 14],\n",
       " 'key3': ['item0', 'item1', 'item2', 'item3']}"
      ]
     },
     "execution_count": 87,
     "metadata": {},
     "output_type": "execute_result"
    }
   ],
   "source": [
    "my_dict"
   ]
  },
  {
   "cell_type": "code",
   "execution_count": null,
   "id": "74f286b8",
   "metadata": {
    "id": "74f286b8",
    "outputId": "0dc9d48f-c4f8-4b13-bda1-d209ba384362"
   },
   "outputs": [
    {
     "data": {
      "text/plain": [
       "123"
      ]
     },
     "execution_count": 89,
     "metadata": {},
     "output_type": "execute_result"
    }
   ],
   "source": [
    "my_dict['key1']"
   ]
  },
  {
   "cell_type": "code",
   "execution_count": null,
   "id": "8988a2fa",
   "metadata": {
    "id": "8988a2fa",
    "outputId": "76fe155f-309a-41bf-d2b6-c87368f7ae82"
   },
   "outputs": [
    {
     "data": {
      "text/plain": [
       "[12, 13, 14]"
      ]
     },
     "execution_count": 90,
     "metadata": {},
     "output_type": "execute_result"
    }
   ],
   "source": [
    "my_dict['key2']"
   ]
  },
  {
   "cell_type": "code",
   "execution_count": null,
   "id": "adf0d32f",
   "metadata": {
    "id": "adf0d32f",
    "outputId": "fd99b545-33bb-4be5-8359-23b867393129"
   },
   "outputs": [
    {
     "data": {
      "text/plain": [
       "14"
      ]
     },
     "execution_count": 93,
     "metadata": {},
     "output_type": "execute_result"
    }
   ],
   "source": [
    "my_dict['key2'][2]"
   ]
  },
  {
   "cell_type": "code",
   "execution_count": null,
   "id": "f4894f52",
   "metadata": {
    "id": "f4894f52",
    "outputId": "0d3d627a-1c07-4163-df4e-8fdc6f69811b"
   },
   "outputs": [
    {
     "data": {
      "text/plain": [
       "['item0', 'item1', 'item2', 'item3']"
      ]
     },
     "execution_count": 91,
     "metadata": {},
     "output_type": "execute_result"
    }
   ],
   "source": [
    "my_dict['key3']"
   ]
  },
  {
   "cell_type": "code",
   "execution_count": null,
   "id": "6811c6c7",
   "metadata": {
    "id": "6811c6c7",
    "outputId": "e40d619e-a480-491b-fae6-e014117cf421"
   },
   "outputs": [
    {
     "data": {
      "text/plain": [
       "'item2'"
      ]
     },
     "execution_count": 92,
     "metadata": {},
     "output_type": "execute_result"
    }
   ],
   "source": [
    "my_dict['key3'][2]"
   ]
  },
  {
   "cell_type": "code",
   "execution_count": null,
   "id": "e1cbacd4",
   "metadata": {
    "id": "e1cbacd4"
   },
   "outputs": [],
   "source": [
    "my_dict['key1'] = my_dict['key1'] - 121"
   ]
  },
  {
   "cell_type": "code",
   "execution_count": null,
   "id": "0eb569e9",
   "metadata": {
    "id": "0eb569e9",
    "outputId": "063be6b9-b109-46c4-82a2-80588d31e19c"
   },
   "outputs": [
    {
     "data": {
      "text/plain": [
       "{'key1': 2, 'key2': [12, 13, 14], 'key3': ['item0', 'item1', 'item2', 'item3']}"
      ]
     },
     "execution_count": 96,
     "metadata": {},
     "output_type": "execute_result"
    }
   ],
   "source": [
    "my_dict"
   ]
  },
  {
   "cell_type": "code",
   "execution_count": null,
   "id": "31a1ea0f",
   "metadata": {
    "id": "31a1ea0f"
   },
   "outputs": [],
   "source": [
    "my_dict['key3'][2] = my_dict['key3'][2].upper()"
   ]
  },
  {
   "cell_type": "code",
   "execution_count": null,
   "id": "08d86fc6",
   "metadata": {
    "id": "08d86fc6",
    "outputId": "916de503-798c-4c62-ae2a-eb291bd9e0ba"
   },
   "outputs": [
    {
     "data": {
      "text/plain": [
       "{'key1': 2, 'key2': [12, 13, 14], 'key3': ['item0', 'item1', 'ITEM2', 'item3']}"
      ]
     },
     "execution_count": 101,
     "metadata": {},
     "output_type": "execute_result"
    }
   ],
   "source": [
    "my_dict"
   ]
  },
  {
   "cell_type": "code",
   "execution_count": null,
   "id": "578eaf0f",
   "metadata": {
    "id": "578eaf0f"
   },
   "outputs": [],
   "source": [
    "d = {}"
   ]
  },
  {
   "cell_type": "code",
   "execution_count": null,
   "id": "48504637",
   "metadata": {
    "id": "48504637"
   },
   "outputs": [],
   "source": [
    "d['animal'] = 'Dog'"
   ]
  },
  {
   "cell_type": "code",
   "execution_count": null,
   "id": "7f03c00c",
   "metadata": {
    "id": "7f03c00c",
    "outputId": "0266b3af-1059-4ccb-a23a-d77c186e26b7"
   },
   "outputs": [
    {
     "data": {
      "text/plain": [
       "{'animal': 'Dog'}"
      ]
     },
     "execution_count": 104,
     "metadata": {},
     "output_type": "execute_result"
    }
   ],
   "source": [
    "d"
   ]
  },
  {
   "cell_type": "code",
   "execution_count": null,
   "id": "407ba5d0",
   "metadata": {
    "id": "407ba5d0"
   },
   "outputs": [],
   "source": [
    "d['answer'] = 42"
   ]
  },
  {
   "cell_type": "code",
   "execution_count": null,
   "id": "1b5a6dde",
   "metadata": {
    "id": "1b5a6dde",
    "outputId": "8f00cfaf-b510-4746-895d-784036b8cedc"
   },
   "outputs": [
    {
     "data": {
      "text/plain": [
       "{'animal': 'Dog', 'answer': 42}"
      ]
     },
     "execution_count": 106,
     "metadata": {},
     "output_type": "execute_result"
    }
   ],
   "source": [
    "d"
   ]
  },
  {
   "cell_type": "code",
   "execution_count": null,
   "id": "17572b87",
   "metadata": {
    "id": "17572b87"
   },
   "outputs": [],
   "source": [
    "# Nested Dictionary\n",
    "d = {'key1':{'nestkey':{'subnestkey':'value'}}}"
   ]
  },
  {
   "cell_type": "code",
   "execution_count": null,
   "id": "3134dd90",
   "metadata": {
    "id": "3134dd90",
    "outputId": "8fc10021-bf3e-4e90-eb4a-395a606b4625"
   },
   "outputs": [
    {
     "data": {
      "text/plain": [
       "{'nestkey': {'subnestkey': 'value'}}"
      ]
     },
     "execution_count": 109,
     "metadata": {},
     "output_type": "execute_result"
    }
   ],
   "source": [
    "d['key1']"
   ]
  },
  {
   "cell_type": "code",
   "execution_count": null,
   "id": "6ae1eca8",
   "metadata": {
    "id": "6ae1eca8",
    "outputId": "9ab8a84f-c3f8-479b-dd0d-062383c823c1"
   },
   "outputs": [
    {
     "data": {
      "text/plain": [
       "{'subnestkey': 'value'}"
      ]
     },
     "execution_count": 110,
     "metadata": {},
     "output_type": "execute_result"
    }
   ],
   "source": [
    "d['key1']['nestkey']"
   ]
  },
  {
   "cell_type": "code",
   "execution_count": null,
   "id": "1a487284",
   "metadata": {
    "id": "1a487284",
    "outputId": "2e59759d-9e1d-40ff-9ea5-b49c25082b3f"
   },
   "outputs": [
    {
     "data": {
      "text/plain": [
       "'value'"
      ]
     },
     "execution_count": 111,
     "metadata": {},
     "output_type": "execute_result"
    }
   ],
   "source": [
    "d['key1']['nestkey']['subnestkey']"
   ]
  },
  {
   "cell_type": "code",
   "execution_count": null,
   "id": "bf2bd532",
   "metadata": {
    "id": "bf2bd532",
    "outputId": "e1d4ce8e-4764-495e-cfc1-ad1279ad6768"
   },
   "outputs": [
    {
     "ename": "KeyError",
     "evalue": "'subnestkey'",
     "output_type": "error",
     "traceback": [
      "\u001b[1;31m---------------------------------------------------------------------------\u001b[0m",
      "\u001b[1;31mKeyError\u001b[0m                                  Traceback (most recent call last)",
      "Input \u001b[1;32mIn [112]\u001b[0m, in \u001b[0;36m<cell line: 1>\u001b[1;34m()\u001b[0m\n\u001b[1;32m----> 1\u001b[0m \u001b[43md\u001b[49m\u001b[43m[\u001b[49m\u001b[38;5;124;43m'\u001b[39;49m\u001b[38;5;124;43msubnestkey\u001b[39;49m\u001b[38;5;124;43m'\u001b[39;49m\u001b[43m]\u001b[49m\n",
      "\u001b[1;31mKeyError\u001b[0m: 'subnestkey'"
     ]
    }
   ],
   "source": [
    "d['subnestkey']"
   ]
  },
  {
   "cell_type": "code",
   "execution_count": null,
   "id": "a91ae1a3",
   "metadata": {
    "id": "a91ae1a3"
   },
   "outputs": [],
   "source": [
    "l = [1,2,3,[10,12,13,14,[10,11,12]]]"
   ]
  },
  {
   "cell_type": "code",
   "execution_count": null,
   "id": "4272d787",
   "metadata": {
    "id": "4272d787",
    "outputId": "da782cfa-1b85-421b-8dd1-7d1074c163c0"
   },
   "outputs": [
    {
     "data": {
      "text/plain": [
       "[1, 2, 3, [10, 12, 13, 14, [10, 11, 12]]]"
      ]
     },
     "execution_count": 114,
     "metadata": {},
     "output_type": "execute_result"
    }
   ],
   "source": [
    "l"
   ]
  },
  {
   "cell_type": "code",
   "execution_count": null,
   "id": "924f44b0",
   "metadata": {
    "id": "924f44b0"
   },
   "outputs": [],
   "source": [
    "d = {'key1':1,'key2':2,'key3':3}"
   ]
  },
  {
   "cell_type": "code",
   "execution_count": null,
   "id": "f14dff7e",
   "metadata": {
    "id": "f14dff7e",
    "outputId": "5a375a73-0cbd-45d0-bf0e-32fce56d30bb"
   },
   "outputs": [
    {
     "data": {
      "text/plain": [
       "dict_keys(['key1', 'key2', 'key3'])"
      ]
     },
     "execution_count": 116,
     "metadata": {},
     "output_type": "execute_result"
    }
   ],
   "source": [
    "d.keys()"
   ]
  },
  {
   "cell_type": "code",
   "execution_count": null,
   "id": "14fef9e9",
   "metadata": {
    "id": "14fef9e9",
    "outputId": "4cf1435c-e701-4885-cce9-166dcb12fb7d"
   },
   "outputs": [
    {
     "data": {
      "text/plain": [
       "['key1', 'key2', 'key3']"
      ]
     },
     "execution_count": 117,
     "metadata": {},
     "output_type": "execute_result"
    }
   ],
   "source": [
    "list(d.keys())"
   ]
  },
  {
   "cell_type": "code",
   "execution_count": null,
   "id": "6a4d1742",
   "metadata": {
    "id": "6a4d1742",
    "outputId": "f6151731-5d89-4829-ed3c-f62120b467ae"
   },
   "outputs": [
    {
     "data": {
      "text/plain": [
       "dict_values([1, 2, 3])"
      ]
     },
     "execution_count": 118,
     "metadata": {},
     "output_type": "execute_result"
    }
   ],
   "source": [
    "d.values()"
   ]
  },
  {
   "cell_type": "code",
   "execution_count": null,
   "id": "e792ddf0",
   "metadata": {
    "id": "e792ddf0",
    "outputId": "4c76f9c7-4be5-4432-dd44-151e870c04ea"
   },
   "outputs": [
    {
     "data": {
      "text/plain": [
       "[1, 2, 3]"
      ]
     },
     "execution_count": 119,
     "metadata": {},
     "output_type": "execute_result"
    }
   ],
   "source": [
    "list(d.values())"
   ]
  },
  {
   "cell_type": "markdown",
   "id": "8ba9a310",
   "metadata": {
    "id": "8ba9a310"
   },
   "source": [
    "# Sets"
   ]
  },
  {
   "cell_type": "code",
   "execution_count": null,
   "id": "b3dbda65",
   "metadata": {
    "id": "b3dbda65"
   },
   "outputs": [],
   "source": [
    "x = set()"
   ]
  },
  {
   "cell_type": "code",
   "execution_count": null,
   "id": "d7eadcee",
   "metadata": {
    "id": "d7eadcee",
    "outputId": "7327237e-adee-4310-9410-e140acbf84c9"
   },
   "outputs": [
    {
     "data": {
      "text/plain": [
       "set()"
      ]
     },
     "execution_count": 121,
     "metadata": {},
     "output_type": "execute_result"
    }
   ],
   "source": [
    "x"
   ]
  },
  {
   "cell_type": "code",
   "execution_count": null,
   "id": "7e708535",
   "metadata": {
    "id": "7e708535"
   },
   "outputs": [],
   "source": [
    "x.add(1)"
   ]
  },
  {
   "cell_type": "code",
   "execution_count": null,
   "id": "1f367f11",
   "metadata": {
    "id": "1f367f11",
    "outputId": "475be004-6eea-4bd1-c76c-9e0097c2f043"
   },
   "outputs": [
    {
     "data": {
      "text/plain": [
       "{1}"
      ]
     },
     "execution_count": 123,
     "metadata": {},
     "output_type": "execute_result"
    }
   ],
   "source": [
    "x"
   ]
  },
  {
   "cell_type": "code",
   "execution_count": null,
   "id": "31a2f80e",
   "metadata": {
    "id": "31a2f80e"
   },
   "outputs": [],
   "source": [
    "x.add(2)"
   ]
  },
  {
   "cell_type": "code",
   "execution_count": null,
   "id": "42f8d9b8",
   "metadata": {
    "id": "42f8d9b8",
    "outputId": "800bc988-5b80-4d4c-9b31-57a12fd5f338"
   },
   "outputs": [
    {
     "data": {
      "text/plain": [
       "{1, 2}"
      ]
     },
     "execution_count": 125,
     "metadata": {},
     "output_type": "execute_result"
    }
   ],
   "source": [
    "x"
   ]
  },
  {
   "cell_type": "code",
   "execution_count": null,
   "id": "ab5ab376",
   "metadata": {
    "id": "ab5ab376"
   },
   "outputs": [],
   "source": [
    "x.add(3)"
   ]
  },
  {
   "cell_type": "code",
   "execution_count": null,
   "id": "d4d708c3",
   "metadata": {
    "id": "d4d708c3",
    "outputId": "6044fcb1-2eee-4282-de09-dd930beeedf1"
   },
   "outputs": [
    {
     "data": {
      "text/plain": [
       "{1, 2, 3}"
      ]
     },
     "execution_count": 127,
     "metadata": {},
     "output_type": "execute_result"
    }
   ],
   "source": [
    "x"
   ]
  },
  {
   "cell_type": "code",
   "execution_count": null,
   "id": "df9d92da",
   "metadata": {
    "id": "df9d92da"
   },
   "outputs": [],
   "source": [
    "list2 = [1,1,1,1,1,2,2,2,2,2,2,3,3,3,3,3,4,4,4,4,5,5,5,6,7,7,8,'abc','bcd','cde','cde','cde','cde','abc','bcd','abc','bcd']"
   ]
  },
  {
   "cell_type": "code",
   "execution_count": null,
   "id": "8438ce0e",
   "metadata": {
    "id": "8438ce0e",
    "outputId": "b7c63a01-e254-406a-97f0-9ca595bdb337"
   },
   "outputs": [
    {
     "data": {
      "text/plain": [
       "{1, 2, 3, 4, 5, 6, 7, 8, 'abc', 'bcd', 'cde'}"
      ]
     },
     "execution_count": 131,
     "metadata": {},
     "output_type": "execute_result"
    }
   ],
   "source": [
    "set(list2)"
   ]
  },
  {
   "cell_type": "code",
   "execution_count": null,
   "id": "14e683d5",
   "metadata": {
    "id": "14e683d5"
   },
   "outputs": [],
   "source": [
    "list2 = [1,1,1,1,1,2,2,2,2,2,2,3,3,3,3,3,4,4,4,4,5,5,5,6,7,7,8,'abc','bcd','cde','ABC','BCD','CDE','CDE','ABC','abc','bcd']"
   ]
  },
  {
   "cell_type": "code",
   "execution_count": null,
   "id": "28f4e77d",
   "metadata": {
    "id": "28f4e77d",
    "outputId": "24840767-35e5-419c-9346-68507ee7c779"
   },
   "outputs": [
    {
     "data": {
      "text/plain": [
       "{1, 2, 3, 4, 5, 6, 7, 8, 'ABC', 'BCD', 'CDE', 'abc', 'bcd', 'cde'}"
      ]
     },
     "execution_count": 133,
     "metadata": {},
     "output_type": "execute_result"
    }
   ],
   "source": [
    "set(list2)"
   ]
  },
  {
   "cell_type": "markdown",
   "id": "1KAzJvoGZx9p",
   "metadata": {
    "id": "1KAzJvoGZx9p"
   },
   "source": [
    "# Booleans"
   ]
  },
  {
   "cell_type": "code",
   "execution_count": 1,
   "id": "wY7jz04lZnxP",
   "metadata": {
    "id": "wY7jz04lZnxP"
   },
   "outputs": [],
   "source": [
    "a = True"
   ]
  },
  {
   "cell_type": "code",
   "execution_count": 2,
   "id": "YNXDEQ5raAm-",
   "metadata": {
    "colab": {
     "base_uri": "https://localhost:8080/"
    },
    "id": "YNXDEQ5raAm-",
    "outputId": "f86c2328-0418-45a9-e70c-86165759ca6c"
   },
   "outputs": [
    {
     "data": {
      "text/plain": [
       "True"
      ]
     },
     "execution_count": 2,
     "metadata": {},
     "output_type": "execute_result"
    }
   ],
   "source": [
    "a"
   ]
  },
  {
   "cell_type": "code",
   "execution_count": 3,
   "id": "3iIuUtJIaAy8",
   "metadata": {
    "id": "3iIuUtJIaAy8"
   },
   "outputs": [],
   "source": [
    "a = False"
   ]
  },
  {
   "cell_type": "code",
   "execution_count": 4,
   "id": "uUjcuSTJaLKF",
   "metadata": {
    "colab": {
     "base_uri": "https://localhost:8080/"
    },
    "id": "uUjcuSTJaLKF",
    "outputId": "48643d0a-d3f7-4329-9896-2d88bd1f164e"
   },
   "outputs": [
    {
     "data": {
      "text/plain": [
       "False"
      ]
     },
     "execution_count": 4,
     "metadata": {},
     "output_type": "execute_result"
    }
   ],
   "source": [
    "a"
   ]
  },
  {
   "cell_type": "code",
   "execution_count": 5,
   "id": "27VTqDuyaMQy",
   "metadata": {
    "id": "27VTqDuyaMQy"
   },
   "outputs": [],
   "source": [
    "a = None"
   ]
  },
  {
   "cell_type": "code",
   "execution_count": 6,
   "id": "CIOod6TqaOon",
   "metadata": {
    "id": "CIOod6TqaOon"
   },
   "outputs": [],
   "source": [
    "a"
   ]
  },
  {
   "cell_type": "code",
   "execution_count": 7,
   "id": "H7tsr62xaPkn",
   "metadata": {
    "colab": {
     "base_uri": "https://localhost:8080/"
    },
    "id": "H7tsr62xaPkn",
    "outputId": "fd76e30c-0efc-4e2d-c328-c201fdd9c6d6"
   },
   "outputs": [
    {
     "data": {
      "text/plain": [
       "False"
      ]
     },
     "execution_count": 7,
     "metadata": {},
     "output_type": "execute_result"
    }
   ],
   "source": [
    "3 > 4"
   ]
  },
  {
   "cell_type": "code",
   "execution_count": 8,
   "id": "l01uxI01atXl",
   "metadata": {
    "colab": {
     "base_uri": "https://localhost:8080/"
    },
    "id": "l01uxI01atXl",
    "outputId": "2372d3cb-9bc9-4fec-e6b3-8dd38f51df1f"
   },
   "outputs": [
    {
     "data": {
      "text/plain": [
       "True"
      ]
     },
     "execution_count": 8,
     "metadata": {},
     "output_type": "execute_result"
    }
   ],
   "source": [
    "4 > 3"
   ]
  },
  {
   "cell_type": "code",
   "execution_count": 9,
   "id": "N4-MlqrYa6CZ",
   "metadata": {
    "colab": {
     "base_uri": "https://localhost:8080/"
    },
    "id": "N4-MlqrYa6CZ",
    "outputId": "780094b2-c73a-43f5-8c13-35799e94d1f8"
   },
   "outputs": [
    {
     "data": {
      "text/plain": [
       "False"
      ]
     },
     "execution_count": 9,
     "metadata": {},
     "output_type": "execute_result"
    }
   ],
   "source": [
    "4 <= 3"
   ]
  },
  {
   "cell_type": "code",
   "execution_count": 10,
   "id": "6APmWgdra_Ax",
   "metadata": {
    "id": "6APmWgdra_Ax"
   },
   "outputs": [],
   "source": [
    "a = 3\n",
    "b = 3"
   ]
  },
  {
   "cell_type": "code",
   "execution_count": 11,
   "id": "ALeUsVRlbQsc",
   "metadata": {
    "colab": {
     "base_uri": "https://localhost:8080/"
    },
    "id": "ALeUsVRlbQsc",
    "outputId": "d375f3f2-28db-47b4-ceb7-d6feb12e8cd7"
   },
   "outputs": [
    {
     "data": {
      "text/plain": [
       "3"
      ]
     },
     "execution_count": 11,
     "metadata": {},
     "output_type": "execute_result"
    }
   ],
   "source": [
    "a"
   ]
  },
  {
   "cell_type": "code",
   "execution_count": 12,
   "id": "bigYueVabRY_",
   "metadata": {
    "colab": {
     "base_uri": "https://localhost:8080/"
    },
    "id": "bigYueVabRY_",
    "outputId": "a1cc59b0-c8bf-4311-89b4-0aa17668b140"
   },
   "outputs": [
    {
     "data": {
      "text/plain": [
       "3"
      ]
     },
     "execution_count": 12,
     "metadata": {},
     "output_type": "execute_result"
    }
   ],
   "source": [
    "b"
   ]
  },
  {
   "cell_type": "code",
   "execution_count": 13,
   "id": "Q_7CpITtbSK9",
   "metadata": {
    "colab": {
     "base_uri": "https://localhost:8080/"
    },
    "id": "Q_7CpITtbSK9",
    "outputId": "5282d378-358d-4711-f2a2-63dcb5e06a05"
   },
   "outputs": [
    {
     "data": {
      "text/plain": [
       "True"
      ]
     },
     "execution_count": 13,
     "metadata": {},
     "output_type": "execute_result"
    }
   ],
   "source": [
    "a == b"
   ]
  },
  {
   "cell_type": "code",
   "execution_count": 14,
   "id": "UIDgdNqqbXMM",
   "metadata": {
    "id": "UIDgdNqqbXMM"
   },
   "outputs": [],
   "source": [
    "c = 5\n",
    "d = 6"
   ]
  },
  {
   "cell_type": "code",
   "execution_count": 15,
   "id": "aqmu8wI-bgly",
   "metadata": {
    "colab": {
     "base_uri": "https://localhost:8080/"
    },
    "id": "aqmu8wI-bgly",
    "outputId": "bc543753-823e-4bc5-d36d-9bdd4cc6ff6f"
   },
   "outputs": [
    {
     "data": {
      "text/plain": [
       "5"
      ]
     },
     "execution_count": 15,
     "metadata": {},
     "output_type": "execute_result"
    }
   ],
   "source": [
    "c"
   ]
  },
  {
   "cell_type": "code",
   "execution_count": 16,
   "id": "gQOH7p9Bbh9P",
   "metadata": {
    "colab": {
     "base_uri": "https://localhost:8080/"
    },
    "id": "gQOH7p9Bbh9P",
    "outputId": "9b4b5de6-5929-4b51-c0e2-9bc488da5f34"
   },
   "outputs": [
    {
     "data": {
      "text/plain": [
       "6"
      ]
     },
     "execution_count": 16,
     "metadata": {},
     "output_type": "execute_result"
    }
   ],
   "source": [
    "d"
   ]
  },
  {
   "cell_type": "code",
   "execution_count": 17,
   "id": "awybSr8gbjN-",
   "metadata": {
    "id": "awybSr8gbjN-"
   },
   "outputs": [],
   "source": [
    "c = d"
   ]
  },
  {
   "cell_type": "code",
   "execution_count": 18,
   "id": "TXW22ayLbk9z",
   "metadata": {
    "colab": {
     "base_uri": "https://localhost:8080/"
    },
    "id": "TXW22ayLbk9z",
    "outputId": "ecf76145-49aa-46d6-f66b-8b844be461c5"
   },
   "outputs": [
    {
     "data": {
      "text/plain": [
       "6"
      ]
     },
     "execution_count": 18,
     "metadata": {},
     "output_type": "execute_result"
    }
   ],
   "source": [
    "c"
   ]
  },
  {
   "cell_type": "code",
   "execution_count": 19,
   "id": "GXbFVB2bbl3f",
   "metadata": {
    "colab": {
     "base_uri": "https://localhost:8080/"
    },
    "id": "GXbFVB2bbl3f",
    "outputId": "7bbc863e-8e08-453a-a052-87f7f52bc862"
   },
   "outputs": [
    {
     "data": {
      "text/plain": [
       "False"
      ]
     },
     "execution_count": 19,
     "metadata": {},
     "output_type": "execute_result"
    }
   ],
   "source": [
    "a != b"
   ]
  },
  {
   "cell_type": "markdown",
   "id": "UgEPv_9BcM1G",
   "metadata": {
    "id": "UgEPv_9BcM1G"
   },
   "source": [
    "# Files"
   ]
  },
  {
   "cell_type": "code",
   "execution_count": 22,
   "id": "5uQsaJSAeAv9",
   "metadata": {
    "id": "5uQsaJSAeAv9"
   },
   "outputs": [
    {
     "data": {
      "text/plain": [
       "'C:\\\\Users\\\\goyal\\\\Downloads'"
      ]
     },
     "execution_count": 22,
     "metadata": {},
     "output_type": "execute_result"
    }
   ],
   "source": [
    "pwd"
   ]
  },
  {
   "cell_type": "code",
   "execution_count": 23,
   "id": "9n8eizf3dqoW",
   "metadata": {
    "colab": {
     "base_uri": "https://localhost:8080/",
     "height": 165
    },
    "id": "9n8eizf3dqoW",
    "outputId": "e22e1786-c47b-4c3c-9c92-fe7c4b4bca39"
   },
   "outputs": [],
   "source": [
    "myfile = open(\"C:\\\\Users\\\\goyal\\\\OneDrive\\\\Desktop\\\\whoops.txt\")"
   ]
  },
  {
   "cell_type": "code",
   "execution_count": 24,
   "id": "a75cdda2",
   "metadata": {},
   "outputs": [
    {
     "data": {
      "text/plain": [
       "'This is a file'"
      ]
     },
     "execution_count": 24,
     "metadata": {},
     "output_type": "execute_result"
    }
   ],
   "source": [
    "myfile.read()"
   ]
  },
  {
   "cell_type": "code",
   "execution_count": 21,
   "id": "0e113d9a",
   "metadata": {},
   "outputs": [],
   "source": [
    "myfile.close()"
   ]
  },
  {
   "cell_type": "code",
   "execution_count": 25,
   "id": "9e595e36",
   "metadata": {},
   "outputs": [],
   "source": [
    "myfile = open('whoops.txt','w+')"
   ]
  },
  {
   "cell_type": "code",
   "execution_count": 26,
   "id": "de557614",
   "metadata": {},
   "outputs": [
    {
     "data": {
      "text/plain": [
       "33"
      ]
     },
     "execution_count": 26,
     "metadata": {},
     "output_type": "execute_result"
    }
   ],
   "source": [
    "myfile.write('\\nThis is a new line to whoops.txt')"
   ]
  }
 ],
 "metadata": {
  "colab": {
   "collapsed_sections": [],
   "provenance": []
  },
  "kernelspec": {
   "display_name": "Python 3 (ipykernel)",
   "language": "python",
   "name": "python3"
  },
  "language_info": {
   "codemirror_mode": {
    "name": "ipython",
    "version": 3
   },
   "file_extension": ".py",
   "mimetype": "text/x-python",
   "name": "python",
   "nbconvert_exporter": "python",
   "pygments_lexer": "ipython3",
   "version": "3.9.12"
  }
 },
 "nbformat": 4,
 "nbformat_minor": 5
}
